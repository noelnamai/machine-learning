{
 "cells": [
  {
   "cell_type": "code",
   "execution_count": 1,
   "metadata": {},
   "outputs": [],
   "source": [
    "%reset -f\n",
    "%matplotlib inline"
   ]
  },
  {
   "cell_type": "code",
   "execution_count": 2,
   "metadata": {},
   "outputs": [],
   "source": [
    "import calendar\n",
    "import numpy as np\n",
    "import pandas as pd\n",
    "import sebaba.ml as sbbml\n",
    "import sebaba.utils as utils\n",
    "import matplotlib.pyplot as plt\n",
    "import matplotlib.ticker as tkr\n",
    "from missingpy import KNNImputer"
   ]
  },
  {
   "cell_type": "code",
   "execution_count": 3,
   "metadata": {},
   "outputs": [],
   "source": [
    "pd.options.display.float_format = \"{:.4f}\".format"
   ]
  },
  {
   "cell_type": "code",
   "execution_count": 4,
   "metadata": {},
   "outputs": [],
   "source": [
    "df = pd.read_csv(\"data/house-prices/train.csv\", sep = \",\")\n",
    "df = df.drop(\"Id\", axis = 1)"
   ]
  },
  {
   "cell_type": "code",
   "execution_count": 5,
   "metadata": {},
   "outputs": [
    {
     "output_type": "stream",
     "name": "stdout",
     "text": "PoolQC         99.5200\nMiscFeature    96.3000\nAlley          93.7700\nFence          80.7500\nFireplaceQu    47.2600\nLotFrontage    17.7400\nGarageType      5.5500\nGarageCond      5.5500\nGarageFinish    5.5500\nGarageQual      5.5500\nGarageYrBlt     5.5500\nBsmtFinType2    2.6000\nBsmtExposure    2.6000\nBsmtQual        2.5300\nBsmtCond        2.5300\nBsmtFinType1    2.5300\nMasVnrArea      0.5500\nMasVnrType      0.5500\nElectrical      0.0700\ndtype: float64\n"
    }
   ],
   "source": [
    "utils.missing_var_pct(df)"
   ]
  },
  {
   "cell_type": "code",
   "execution_count": 6,
   "metadata": {},
   "outputs": [],
   "source": [
    "df = utils.drop_missing_var(df, threshold = 0.8)"
   ]
  },
  {
   "cell_type": "code",
   "execution_count": 7,
   "metadata": {},
   "outputs": [],
   "source": [
    "df.FireplaceQu = df.FireplaceQu.fillna(\"NoFirePlace\")\n",
    "basement       = [\"BsmtFinType2\", \"BsmtExposure\", \"BsmtFinType1\", \"BsmtCond\", \"BsmtQual\"]\n",
    "df[basement]   = df[basement].fillna(\"NoBasement\")\n",
    "garage         = [\"GarageType\", \"GarageFinish\", \"GarageQual\", \"GarageCond\"]\n",
    "df[garage]     = df[garage].fillna(\"NoGarage\")"
   ]
  },
  {
   "cell_type": "code",
   "execution_count": 8,
   "metadata": {},
   "outputs": [],
   "source": [
    "df = df.dropna(how = \"any\", subset = [\"MasVnrType\", \"MasVnrArea\", \"Electrical\"])"
   ]
  },
  {
   "cell_type": "code",
   "execution_count": 9,
   "metadata": {},
   "outputs": [],
   "source": [
    "imputer        = KNNImputer(n_neighbors = 5, weights = \"distance\", metric = \"masked_euclidean\")\n",
    "df.LotFrontage = imputer.fit_transform(np.array(df.LotFrontage).reshape(-1, 1))\n",
    "df.GarageYrBlt = imputer.fit_transform(np.array(df.GarageYrBlt).reshape(-1, 1))"
   ]
  },
  {
   "cell_type": "code",
   "execution_count": 10,
   "metadata": {},
   "outputs": [
    {
     "output_type": "stream",
     "name": "stdout",
     "text": "The dataframe has no missing values in any column.\n"
    }
   ],
   "source": [
    "utils.missing_var_pct(df)"
   ]
  },
  {
   "cell_type": "code",
   "execution_count": 11,
   "metadata": {},
   "outputs": [],
   "source": [
    "#changing numeric variables to categorical\n",
    "df.MSSubClass = [\"SC\" + str(i) for i in df.MSSubClass]\n",
    "df.MoSold     = [calendar.month_abbr[i] for i in df.MoSold]"
   ]
  },
  {
   "cell_type": "code",
   "execution_count": 12,
   "metadata": {},
   "outputs": [],
   "source": [
    "#converting cat variables to an interval scale as they are ordinal in nature\n",
    "df = df.replace({\n",
    "    \"ExterQual\"   : {\"Po\": 1, \"Fa\": 2, \"TA\": 3, \"Gd\": 4, \"Ex\": 5},\n",
    "    \"ExterCond\"   : {\"Po\": 1, \"Fa\": 2, \"TA\": 3, \"Gd\": 4, \"Ex\": 5},\n",
    "    \"BsmtQual\"    : {\"NoBasement\": 0, \"Po\": 1, \"Fa\": 2, \"TA\": 3, \"Gd\": 4, \"Ex\": 5},\n",
    "    \"BsmtCond\"    : {\"NoBasement\": 0, \"Po\": 1, \"Fa\": 2, \"TA\": 3, \"Gd\": 4, \"Ex\": 5},\n",
    "    \"BsmtExposure\": {\"NoBasement\": 0, \"No\": 1, \"Mn\": 2, \"Av\": 3, \"Gd\": 4},\n",
    "    \"BsmtFinType1\": {\"NoBasement\": 0, \"Unf\": 1, \"LwQ\": 2, \"Rec\": 3, \"BLQ\": 4, \"ALQ\": 5, \"GLQ\": 6},\n",
    "    \"BsmtFinType2\": {\"NoBasement\": 0, \"Unf\": 1, \"LwQ\": 2, \"Rec\": 3, \"BLQ\": 4, \"ALQ\": 5, \"GLQ\": 6},\n",
    "    \"HeatingQC\"   : {\"Po\": 1, \"Fa\": 2, \"TA\": 3, \"Gd\": 4, \"Ex\": 5},\n",
    "    \"KitchenQual\" : {\"Po\" : 1, \"Fa\" : 2, \"TA\" : 3, \"Gd\" : 4, \"Ex\" : 5},\n",
    "    \"FireplaceQu\" : {\"NoFirePlace\": 0, \"Po\": 1, \"Fa\": 2, \"TA\": 3, \"Gd\": 4, \"Ex\" : 5},\n",
    "    \"GarageFinish\": {\"NoGarage\": 0, \"Unf\": 1, \"RFn\": 2, \"Fin\": 3},\n",
    "    \"GarageQual\"  : {\"NoGarage\": 0, \"Po\": 1, \"Fa\": 2, \"TA\": 3, \"Gd\": 4, \"Ex\": 5},\n",
    "    \"GarageCond\"  : {\"NoGarage\": 0, \"Po\": 1, \"Fa\": 2, \"TA\": 3, \"Gd\": 4, \"Ex\": 5},\n",
    "})\n",
    "\n",
    "#creating a list of our ordinal variables\n",
    "ordinal_vars = [\n",
    "    \"ExterQual\", \"ExterCond\", \"BsmtQual\", \"BsmtCond\", \"BsmtExposure\",\n",
    "    \"BsmtFinType1\", \"BsmtFinType2\", \"HeatingQC\",\"KitchenQual\", \n",
    "    \"FireplaceQu\", \"GarageFinish\", \"GarageQual\", \"GarageCond\"\n",
    "]"
   ]
  },
  {
   "cell_type": "code",
   "execution_count": 13,
   "metadata": {},
   "outputs": [],
   "source": [
    "#changing features to their correct data types\n",
    "df.BsmtCond     = df.BsmtCond.astype(\"int64\")\n",
    "df.BsmtFinType2 = df.BsmtFinType2.astype(\"int64\")\n",
    "df.FireplaceQu  = df.FireplaceQu.astype(\"int64\")"
   ]
  },
  {
   "cell_type": "code",
   "execution_count": 14,
   "metadata": {},
   "outputs": [],
   "source": [
    "df = utils.change_vars_to_categorical(df)"
   ]
  },
  {
   "cell_type": "code",
   "execution_count": 15,
   "metadata": {},
   "outputs": [
    {
     "output_type": "execute_result",
     "data": {
      "text/plain": "  MSSubClass MSZoning  LotFrontage  LotArea Street LotShape LandContour  \\\n0       SC60       RL      65.0000     8450   Pave      Reg         Lvl   \n1       SC20       RL      80.0000     9600   Pave      Reg         Lvl   \n2       SC60       RL      68.0000    11250   Pave      IR1         Lvl   \n3       SC70       RL      60.0000     9550   Pave      IR1         Lvl   \n4       SC60       RL      84.0000    14260   Pave      IR1         Lvl   \n\n  Utilities LotConfig LandSlope  ... EnclosedPorch 3SsnPorch ScreenPorch  \\\n0    AllPub    Inside       Gtl  ...             0         0           0   \n1    AllPub       FR2       Gtl  ...             0         0           0   \n2    AllPub    Inside       Gtl  ...             0         0           0   \n3    AllPub    Corner       Gtl  ...           272         0           0   \n4    AllPub       FR2       Gtl  ...             0         0           0   \n\n  PoolArea MiscVal  MoSold  YrSold  SaleType  SaleCondition SalePrice  \n0        0       0     Feb    2008        WD         Normal    208500  \n1        0       0     May    2007        WD         Normal    181500  \n2        0       0     Sep    2008        WD         Normal    223500  \n3        0       0     Feb    2006        WD        Abnorml    140000  \n4        0       0     Dec    2008        WD         Normal    250000  \n\n[5 rows x 76 columns]",
      "text/html": "<div>\n<style scoped>\n    .dataframe tbody tr th:only-of-type {\n        vertical-align: middle;\n    }\n\n    .dataframe tbody tr th {\n        vertical-align: top;\n    }\n\n    .dataframe thead th {\n        text-align: right;\n    }\n</style>\n<table border=\"1\" class=\"dataframe\">\n  <thead>\n    <tr style=\"text-align: right;\">\n      <th></th>\n      <th>MSSubClass</th>\n      <th>MSZoning</th>\n      <th>LotFrontage</th>\n      <th>LotArea</th>\n      <th>Street</th>\n      <th>LotShape</th>\n      <th>LandContour</th>\n      <th>Utilities</th>\n      <th>LotConfig</th>\n      <th>LandSlope</th>\n      <th>...</th>\n      <th>EnclosedPorch</th>\n      <th>3SsnPorch</th>\n      <th>ScreenPorch</th>\n      <th>PoolArea</th>\n      <th>MiscVal</th>\n      <th>MoSold</th>\n      <th>YrSold</th>\n      <th>SaleType</th>\n      <th>SaleCondition</th>\n      <th>SalePrice</th>\n    </tr>\n  </thead>\n  <tbody>\n    <tr>\n      <th>0</th>\n      <td>SC60</td>\n      <td>RL</td>\n      <td>65.0000</td>\n      <td>8450</td>\n      <td>Pave</td>\n      <td>Reg</td>\n      <td>Lvl</td>\n      <td>AllPub</td>\n      <td>Inside</td>\n      <td>Gtl</td>\n      <td>...</td>\n      <td>0</td>\n      <td>0</td>\n      <td>0</td>\n      <td>0</td>\n      <td>0</td>\n      <td>Feb</td>\n      <td>2008</td>\n      <td>WD</td>\n      <td>Normal</td>\n      <td>208500</td>\n    </tr>\n    <tr>\n      <th>1</th>\n      <td>SC20</td>\n      <td>RL</td>\n      <td>80.0000</td>\n      <td>9600</td>\n      <td>Pave</td>\n      <td>Reg</td>\n      <td>Lvl</td>\n      <td>AllPub</td>\n      <td>FR2</td>\n      <td>Gtl</td>\n      <td>...</td>\n      <td>0</td>\n      <td>0</td>\n      <td>0</td>\n      <td>0</td>\n      <td>0</td>\n      <td>May</td>\n      <td>2007</td>\n      <td>WD</td>\n      <td>Normal</td>\n      <td>181500</td>\n    </tr>\n    <tr>\n      <th>2</th>\n      <td>SC60</td>\n      <td>RL</td>\n      <td>68.0000</td>\n      <td>11250</td>\n      <td>Pave</td>\n      <td>IR1</td>\n      <td>Lvl</td>\n      <td>AllPub</td>\n      <td>Inside</td>\n      <td>Gtl</td>\n      <td>...</td>\n      <td>0</td>\n      <td>0</td>\n      <td>0</td>\n      <td>0</td>\n      <td>0</td>\n      <td>Sep</td>\n      <td>2008</td>\n      <td>WD</td>\n      <td>Normal</td>\n      <td>223500</td>\n    </tr>\n    <tr>\n      <th>3</th>\n      <td>SC70</td>\n      <td>RL</td>\n      <td>60.0000</td>\n      <td>9550</td>\n      <td>Pave</td>\n      <td>IR1</td>\n      <td>Lvl</td>\n      <td>AllPub</td>\n      <td>Corner</td>\n      <td>Gtl</td>\n      <td>...</td>\n      <td>272</td>\n      <td>0</td>\n      <td>0</td>\n      <td>0</td>\n      <td>0</td>\n      <td>Feb</td>\n      <td>2006</td>\n      <td>WD</td>\n      <td>Abnorml</td>\n      <td>140000</td>\n    </tr>\n    <tr>\n      <th>4</th>\n      <td>SC60</td>\n      <td>RL</td>\n      <td>84.0000</td>\n      <td>14260</td>\n      <td>Pave</td>\n      <td>IR1</td>\n      <td>Lvl</td>\n      <td>AllPub</td>\n      <td>FR2</td>\n      <td>Gtl</td>\n      <td>...</td>\n      <td>0</td>\n      <td>0</td>\n      <td>0</td>\n      <td>0</td>\n      <td>0</td>\n      <td>Dec</td>\n      <td>2008</td>\n      <td>WD</td>\n      <td>Normal</td>\n      <td>250000</td>\n    </tr>\n  </tbody>\n</table>\n<p>5 rows × 76 columns</p>\n</div>"
     },
     "metadata": {},
     "execution_count": 15
    }
   ],
   "source": [
    "df.head()"
   ]
  },
  {
   "cell_type": "code",
   "execution_count": 30,
   "metadata": {},
   "outputs": [
    {
     "output_type": "execute_result",
     "data": {
      "text/plain": "array([-1.00000000e+00, -8.00000000e-01, -6.00000000e-01, -4.00000000e-01,\n       -2.00000000e-01, -2.22044605e-16,  2.00000000e-01,  4.00000000e-01,\n        6.00000000e-01,  8.00000000e-01,  1.00000000e+00])"
     },
     "metadata": {},
     "execution_count": 30
    }
   ],
   "source": [
    "np.arange(start = -1.0, stop = 1.2, step = 0.20)"
   ]
  }
 ],
 "metadata": {
  "language_info": {
   "codemirror_mode": {
    "name": "ipython",
    "version": 3
   },
   "file_extension": ".py",
   "mimetype": "text/x-python",
   "name": "python",
   "nbconvert_exporter": "python",
   "pygments_lexer": "ipython3",
   "version": "3.7.5-final"
  },
  "orig_nbformat": 2,
  "kernelspec": {
   "name": "python3",
   "display_name": "Python 3"
  }
 },
 "nbformat": 4,
 "nbformat_minor": 2
}