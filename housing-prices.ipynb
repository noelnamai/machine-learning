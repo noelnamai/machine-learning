{
 "cells": [
  {
   "cell_type": "code",
   "execution_count": null,
   "metadata": {},
   "outputs": [],
   "source": [
    "%reset -f\n",
    "%matplotlib inline"
   ]
  },
  {
   "cell_type": "code",
   "execution_count": null,
   "metadata": {},
   "outputs": [],
   "source": [
    "import calendar\n",
    "import numpy as np\n",
    "import pandas as pd\n",
    "import seaborn as sns\n",
    "import sebaba.ml as sbbml\n",
    "import sebaba.utils as utils\n",
    "import matplotlib.pyplot as plt\n",
    "import matplotlib.ticker as tkr\n",
    "from scipy.stats import norm\n",
    "from missingpy import KNNImputer"
   ]
  },
  {
   "cell_type": "code",
   "execution_count": null,
   "metadata": {},
   "outputs": [],
   "source": [
    "pd.options.display.float_format = \"{:.4f}\".format"
   ]
  },
  {
   "cell_type": "code",
   "execution_count": null,
   "metadata": {},
   "outputs": [],
   "source": [
    "df = pd.read_csv(\"data/house-prices/train.csv\", sep = \",\")\n",
    "df = df.drop(\"Id\", axis = 1)"
   ]
  },
  {
   "cell_type": "code",
   "execution_count": null,
   "metadata": {},
   "outputs": [],
   "source": [
    "utils.missing_var_pct(df)"
   ]
  },
  {
   "cell_type": "code",
   "execution_count": null,
   "metadata": {},
   "outputs": [],
   "source": [
    "df = utils.drop_missing_var(df, threshold = 0.8)"
   ]
  },
  {
   "cell_type": "code",
   "execution_count": null,
   "metadata": {},
   "outputs": [],
   "source": [
    "df = df.drop(\"GarageYrBlt\", axis = 1)\n",
    "df = df.dropna(how = \"any\", subset = [\"MasVnrType\", \"MasVnrArea\", \"Electrical\"])"
   ]
  },
  {
   "cell_type": "code",
   "execution_count": null,
   "metadata": {},
   "outputs": [],
   "source": [
    "df.FireplaceQu = df.FireplaceQu.fillna(\"NoFirePlace\")\n",
    "basement       = [\"BsmtFinType2\", \"BsmtExposure\", \"BsmtFinType1\", \"BsmtCond\", \"BsmtQual\"]\n",
    "df[basement]   = df[basement].fillna(\"NoBasement\")\n",
    "garage         = [\"GarageType\", \"GarageFinish\", \"GarageQual\", \"GarageCond\"]\n",
    "df[garage]     = df[garage].fillna(\"NoGarage\")"
   ]
  },
  {
   "cell_type": "code",
   "execution_count": null,
   "metadata": {},
   "outputs": [],
   "source": [
    "df = df.dropna(how = \"any\", subset = [\"MasVnrType\", \"MasVnrArea\", \"Electrical\"])"
   ]
  },
  {
   "cell_type": "code",
   "execution_count": null,
   "metadata": {},
   "outputs": [],
   "source": [
    "imputer        = KNNImputer(n_neighbors = 5, weights = \"distance\", metric = \"masked_euclidean\")\n",
    "df.LotFrontage = imputer.fit_transform(np.array(df.LotFrontage).reshape(-1, 1))"
   ]
  },
  {
   "cell_type": "code",
   "execution_count": null,
   "metadata": {},
   "outputs": [],
   "source": [
    "utils.missing_var_pct(df)"
   ]
  },
  {
   "cell_type": "code",
   "execution_count": null,
   "metadata": {},
   "outputs": [],
   "source": [
    "#changing numeric variables to categorical\n",
    "df.MSSubClass = [\"SC\" + str(i) for i in df.MSSubClass]\n",
    "df.MoSold     = [calendar.month_abbr[i] for i in df.MoSold]"
   ]
  },
  {
   "cell_type": "code",
   "execution_count": null,
   "metadata": {},
   "outputs": [],
   "source": [
    "#converting cat variables to an interval scale as they are ordinal in nature\n",
    "df = df.replace({\n",
    "    \"GarageFinish\": {\"NoGarage\": 0, \"Unf\": 1, \"RFn\": 2, \"Fin\": 3},\n",
    "    \"GarageQual\"  : {\"NoGarage\": 0, \"Po\": 1, \"Fa\": 2, \"TA\": 3, \"Gd\": 4, \"Ex\": 5},\n",
    "    \"GarageCond\"  : {\"NoGarage\": 0, \"Po\": 1, \"Fa\": 2, \"TA\": 3, \"Gd\": 4, \"Ex\": 5},\n",
    "    \"BsmtQual\"    : {\"NoBasement\": 0, \"Po\": 1, \"Fa\": 2, \"TA\": 3, \"Gd\": 4, \"Ex\": 5},\n",
    "    \"BsmtCond\"    : {\"NoBasement\": 0, \"Po\": 1, \"Fa\": 2, \"TA\": 3, \"Gd\": 4, \"Ex\": 5},\n",
    "    \"BsmtExposure\": {\"NoBasement\": 0, \"No\": 1, \"Mn\": 2, \"Av\": 3, \"Gd\": 4},\n",
    "    \"BsmtFinType1\": {\"NoBasement\": 0, \"Unf\": 1, \"LwQ\": 2, \"Rec\": 3, \"BLQ\": 4, \"ALQ\": 5, \"GLQ\": 6},\n",
    "    \"BsmtFinType2\": {\"NoBasement\": 0, \"Unf\": 1, \"LwQ\": 2, \"Rec\": 3, \"BLQ\": 4, \"ALQ\": 5, \"GLQ\": 6},\n",
    "    \"ExterQual\"   : {\"Po\": 1, \"Fa\": 2, \"TA\": 3, \"Gd\": 4, \"Ex\": 5},\n",
    "    \"ExterCond\"   : {\"Po\": 1, \"Fa\": 2, \"TA\": 3, \"Gd\": 4, \"Ex\": 5},\n",
    "    \"HeatingQC\"   : {\"Po\": 1, \"Fa\": 2, \"TA\": 3, \"Gd\": 4, \"Ex\": 5},\n",
    "    \"KitchenQual\" : {\"Po\": 1, \"Fa\" : 2, \"TA\" : 3, \"Gd\" : 4, \"Ex\" : 5},\n",
    "    \"FireplaceQu\" : {\"NoFirePlace\": 0, \"Po\": 1, \"Fa\": 2, \"TA\": 3, \"Gd\": 4, \"Ex\" : 5}\n",
    "})\n",
    "\n",
    "#creating a list of our ordinal variables\n",
    "ordinal_vars = [\n",
    "    \"ExterQual\", \"ExterCond\", \"BsmtQual\", \"BsmtCond\", \"BsmtExposure\",\n",
    "    \"BsmtFinType1\", \"BsmtFinType2\", \"HeatingQC\",\"KitchenQual\", \n",
    "    \"FireplaceQu\", \"GarageFinish\", \"GarageQual\", \"GarageCond\"\n",
    "]"
   ]
  },
  {
   "cell_type": "code",
   "execution_count": null,
   "metadata": {},
   "outputs": [],
   "source": [
    "#changing features to their correct data types\n",
    "df.BsmtCond     = df.BsmtCond.astype(\"int64\")\n",
    "df.BsmtFinType2 = df.BsmtFinType2.astype(\"int64\")\n",
    "df.FireplaceQu  = df.FireplaceQu.astype(\"int64\")"
   ]
  },
  {
   "cell_type": "code",
   "execution_count": null,
   "metadata": {},
   "outputs": [],
   "source": [
    "#one hot encoding\n",
    "#df = pd.get_dummies(df)\n",
    "df[\"LogSalePrice\"] = np.log(df.SalePrice)\n",
    "df.drop(\"SalePrice\", axis = 1, inplace = True)"
   ]
  },
  {
   "cell_type": "code",
   "execution_count": null,
   "metadata": {},
   "outputs": [],
   "source": [
    "fig, ax = plt.subplots(figsize = (10.0, 6.5))\n",
    "ax = sns.distplot(df.LogSalePrice, color = \"darkblue\", fit = norm, kde = False, hist_kws = {\"edgecolor\": \"silver\"})\n",
    "ax.set_title(\"Distribution of LogSalePrice\", fontsize = 20)\n",
    "ax.set_xlabel(\"LogSalePrice\", fontsize = 18)\n",
    "ax.margins(0.05)\n",
    "ax.axis(\"tight\")\n",
    "ax.grid(True)\n",
    "fig.tight_layout()\n",
    "\n",
    "plt.show()"
   ]
  },
  {
   "cell_type": "code",
   "execution_count": null,
   "metadata": {},
   "outputs": [],
   "source": [
    "num_df, cat_df = utils.split_numerical_categorical(df)"
   ]
  },
  {
   "cell_type": "code",
   "execution_count": null,
   "metadata": {},
   "outputs": [],
   "source": [
    "corr = num_df.corr()"
   ]
  },
  {
   "cell_type": "code",
   "execution_count": null,
   "metadata": {},
   "outputs": [],
   "source": [
    "#generate a mask for the upper triangle\n",
    "mask = np.zeros_like(corr, dtype = np.bool)\n",
    "mask[np.triu_indices_from(mask)] = True\n",
    "\n",
    "cmap = sns.diverging_palette(220, 10, as_cmap = True)\n",
    "\n",
    "fig, ax = plt.subplots(figsize = (20, 16))\n",
    "ax = sns.heatmap(corr, mask = mask, cmap = cmap, fmt = \".2f\", vmin = -1, vmax = 1.0, center = 0, square = True, linewidths = .5, cbar_kws = {\"shrink\": .7}, annot = True, annot_kws = {\"size\": 8})\n",
    "ax.set_title(\"Correlation Heatmap\", fontsize = 20)\n",
    "ax.margins(0.05)\n",
    "ax.axis(\"tight\")\n",
    "ax.grid(False)\n",
    "fig.tight_layout()\n",
    "\n",
    "plt.show()"
   ]
  },
  {
   "cell_type": "code",
   "execution_count": null,
   "metadata": {},
   "outputs": [],
   "source": [
    "y = num_df.LogSalePrice.values\n",
    "x = num_df.drop(\"LogSalePrice\", axis = 1).values"
   ]
  },
  {
   "cell_type": "code",
   "execution_count": null,
   "metadata": {},
   "outputs": [],
   "source": [
    "x_train, x_test, y_train, y_test = utils.split_train_test(x, y, prop_train = 80.0)"
   ]
  },
  {
   "cell_type": "code",
   "execution_count": null,
   "metadata": {},
   "outputs": [],
   "source": [
    "opt_model  = None\n",
    "min_rmse   = np.inf\n",
    "alpha_list = np.arange(0, 10, step = 0.01)\n",
    "\n",
    "for alpha in alpha_list:\n",
    "    model = sbbml.LinearRegression(alpha, iterations = 10000, normalize = True)\n",
    "    model.fit(x_train, y_train)\n",
    "\n",
    "    y_prime = model.predict(x_test)\n",
    "    rmse    = utils.root_mean_squared_error(y_prime, y_test)\n",
    "\n",
    "    if rmse < min_rmse:\n",
    "        print(f\"rmse: {rmse: <20} \\t alpha: {alpha}\")\n",
    "        min_rmse  = rmse\n",
    "        opt_model = model"
   ]
  },
  {
   "cell_type": "code",
   "execution_count": null,
   "metadata": {},
   "outputs": [],
   "source": [
    "utils.plot_cost_function(cost = opt_model.cost, width = 10.0, height = 6.5)"
   ]
  },
  {
   "cell_type": "code",
   "execution_count": null,
   "metadata": {
    "tags": [
     "outputPrepend",
     "outputPrepend",
     "outputPrepend",
     "outputPrepend",
     "outputPrepend",
     "outputPrepend",
     "outputPrepend",
     "outputPrepend",
     "outputPrepend",
     "outputPrepend",
     "outputPrepend",
     "outputPrepend",
     "outputPrepend",
     "outputPrepend",
     "outputPrepend",
     "outputPrepend",
     "outputPrepend",
     "outputPrepend",
     "outputPrepend",
     "outputPrepend",
     "outputPrepend",
     "outputPrepend",
     "outputPrepend",
     "outputPrepend",
     "outputPrepend",
     "outputPrepend",
     "outputPrepend",
     "outputPrepend",
     "outputPrepend",
     "outputPrepend"
    ]
   },
   "outputs": [],
   "source": [
    "opt_model  = None\n",
    "opt_n_comp = None\n",
    "min_rmse   = np.inf\n",
    "\n",
    "alpha_list = np.arange(0, 10, step = 0.01)\n",
    "ncomp_list = np.linspace(0, 10, num = 10, dtype = int, endpoint = True)\n",
    "\n",
    "for n_comp in ncomp_list:\n",
    "    if n_comp > 3:\n",
    "        pca = sbbml.PCA(n_comp)\n",
    "        pca.fit(x)\n",
    "        x_reduced = pca.transform(x)\n",
    "        x_train, x_test, y_train, y_test = utils.split_train_test(x_reduced, y, prop_train = 80.0, seed = 0)\n",
    "\n",
    "        for alpha in alpha_list:\n",
    "            model = sbbml.LinearRegression(alpha, iterations = 10000, normalize = True)\n",
    "            model.fit(x_train, y_train)\n",
    "\n",
    "            y_prime = model.predict(x_test)\n",
    "            rmse    = utils.root_mean_squared_error(y_prime, y_test)\n",
    "\n",
    "            if rmse < min_rmse:\n",
    "                print(f\"rmse: {rmse: <20} \\t alpha: {alpha: <20} \\t n_comp: {n_comp}\")\n",
    "                min_rmse   = rmse\n",
    "                opt_model  = model\n",
    "                opt_n_comp = n_comp"
   ]
  },
  {
   "cell_type": "code",
   "execution_count": null,
   "metadata": {},
   "outputs": [],
   "source": [
    "utils.plot_cost_function(cost = opt_model.cost, width = 10.0, height = 6.5)"
   ]
  }
 ],
 "metadata": {
  "language_info": {
   "codemirror_mode": {
    "name": "ipython",
    "version": 3
   },
   "file_extension": ".py",
   "mimetype": "text/x-python",
   "name": "python",
   "nbconvert_exporter": "python",
   "pygments_lexer": "ipython3",
   "version": "3.7.5-final"
  },
  "orig_nbformat": 2,
  "kernelspec": {
   "name": "python3",
   "display_name": "Python 3"
  }
 },
 "nbformat": 4,
 "nbformat_minor": 2
}